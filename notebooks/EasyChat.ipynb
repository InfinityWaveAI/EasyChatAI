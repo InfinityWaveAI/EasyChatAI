{
 "cells": [
  {
   "cell_type": "raw",
   "id": "e72473fd-0363-4a50-9d2b-8487a780797e",
   "metadata": {},
   "source": [
    "Easy Chat -> A single click chat bot enabler for websites\n",
    "\n",
    "Steps: \n",
    "Provide website link\n",
    "Creating Chat bot\n",
    "Creating iframe link\n",
    "Chatbot live"
   ]
  },
  {
   "cell_type": "code",
   "execution_count": 29,
   "id": "2b11330d-b1fa-4274-9dfc-fae801fe8173",
   "metadata": {},
   "outputs": [],
   "source": [
    "# libraries\n",
    "\n",
    "from selenium import webdriver\n",
    "from selenium.webdriver.common.action_chains import ActionChains\n",
    "from selenium.webdriver.chrome.service import Service\n",
    "from selenium import webdriver\n",
    "from selenium.webdriver.common.by import By\n",
    "\n",
    "import time\n",
    "from selenium import webdriver\n",
    "from selenium.webdriver.chrome.service import Service\n",
    "from webdriver_manager.chrome import ChromeDriverManager as CM\n",
    "from selenium.webdriver.chrome.options import Options\n",
    "from selenium.webdriver.support.ui import WebDriverWait\n",
    "from selenium.webdriver.support import expected_conditions as EC\n",
    "from selenium.webdriver.common.by import By\n",
    "\n",
    "import time\n",
    "\n",
    "import pandas as pd\n",
    "import re\n",
    "from deep_translator import GoogleTranslator\n",
    "import tqdm\n",
    "import os"
   ]
  },
  {
   "cell_type": "code",
   "execution_count": 30,
   "id": "b3e80508-171f-432d-937c-fa33c6239ff4",
   "metadata": {},
   "outputs": [],
   "source": [
    "url = \"https://infinitywave.ai\""
   ]
  },
  {
   "cell_type": "code",
   "execution_count": 3,
   "id": "74117bed-90a3-4cef-809e-9f2c44bfc3ab",
   "metadata": {},
   "outputs": [],
   "source": [
    "# Extracting data from the website\n",
    "# Extracting internal links and external links in the website\n",
    "# Visiting all the internal links and extracting data\n",
    "\n",
    "# Creating chunks\n",
    "# Creating Question and Answer pairs\n",
    "# Creating vector db and collection\n",
    "\n",
    "# Creating chatbot pipeline\n",
    "# Creating flask app"
   ]
  },
  {
   "cell_type": "code",
   "execution_count": 31,
   "id": "90de6b2b-bab0-49ca-ac1d-f2eb7adb406e",
   "metadata": {},
   "outputs": [],
   "source": [
    "# New way :>\n",
    "chrome_options = Options()\n",
    "# Use WebDriverManager to handle driver installation\n",
    "service = Service(executable_path=CM().install())\n",
    "browser = webdriver.Chrome(service=service, options=chrome_options)\n",
    "browser.maximize_window()"
   ]
  },
  {
   "cell_type": "code",
   "execution_count": 45,
   "id": "7f2c2b1b-bf71-46ea-9d39-c86c5707c1bf",
   "metadata": {},
   "outputs": [
    {
     "data": {
      "text/plain": [
       "{'width': 1296, 'height': 688}"
      ]
     },
     "execution_count": 45,
     "metadata": {},
     "output_type": "execute_result"
    }
   ],
   "source": [
    "browser.get_window_size()"
   ]
  },
  {
   "cell_type": "code",
   "execution_count": 32,
   "id": "122a0c4a-3318-4e48-8623-fc94f6505085",
   "metadata": {},
   "outputs": [],
   "source": [
    "browser.get(url)"
   ]
  },
  {
   "cell_type": "code",
   "execution_count": 48,
   "id": "cdb9e6ef-c8db-4b34-9a74-e7244462e996",
   "metadata": {},
   "outputs": [],
   "source": [
    "# scroll to the bottom of the website :> \n",
    "for _ in range(10):\n",
    "    time.sleep(2)\n",
    "    browser.execute_script(\"window.scrollBy(0,688)\")"
   ]
  },
  {
   "cell_type": "code",
   "execution_count": 49,
   "id": "034ddcc4-104f-480e-b9fa-9032575f5ad3",
   "metadata": {},
   "outputs": [],
   "source": [
    "text = browser.find_element(By.XPATH, \"/html/body\").text"
   ]
  },
  {
   "cell_type": "code",
   "execution_count": 50,
   "id": "e05f0e15-0834-427c-a805-c3170a6f09d0",
   "metadata": {},
   "outputs": [
    {
     "name": "stdout",
     "output_type": "stream",
     "text": [
      "Infinity Wave AI\n",
      "ServicesIndustriesAboutContact\n",
      "Demo our products\n",
      "AI Solutions for Your Unique Needs\n",
      "We empower organizations unleashing the power of AI into their business success.\n",
      "Get Started Today\n",
      "Who We Are\n",
      "We help businesses unlock the true potential of AI technology. Whether to automate processes, develop intelligent AI systems, or leverage the latest AI models.\n",
      "• Decade of experience in AI development\n",
      "• Expertise in cutting-edge AI technologies\n",
      "• Tailored AI Solutions for your unique needs\n",
      "Free Consultation\n",
      "OUR EXPERTISE\n",
      "We specialize in end-to-end AI solutions tailored to your industry and business goals.\n",
      "Intelligent Automation\n",
      "We specialize in creating and optimizing Workflow automation, RPA with AI, and smart assistants.\n",
      "Conversational AI\n",
      "We develop high-quality and advance AI Chatbots, voice bots, and customer support systems..\n",
      "Advanced RAG Pipelines\n",
      "Retrieval-augmented generation for accurate and context-aware AI outputs.\n",
      "Custom AI Model\n",
      "Industry-specific AI models fine-tuned to your requirements.\n",
      "Bridging AI Adoption\n",
      "While tech giants invest billions in AI, most businesses struggle to customize these advancements for their unique needs. At Infinity Wave, we simplify AI adoption, delivering cost-effective and scalable solutions designed specifically for your business.\n",
      "AI Solutions for Every Industry\n",
      "• Healthcare\n",
      "• Finance\n",
      "• Retail & Manufacturing\n",
      "• Education\n",
      "• Document Processing\n",
      "• Aerospace\n",
      "PRODUCTS\n",
      "Document Processing AI\n",
      "AI documents intelligence with key value extractions and auto signatures.\n",
      "Schedule Demo\n",
      "Daily Invest AI\n",
      "AI Agent for financial investing assistant for enterprises and individuals.\n",
      "Schedule Demo\n",
      "Multi Agent Chatbot\n",
      "AI driven Chatbot integrating with Salesforce, Teams, Slack or any other platforms.\n",
      "Schedule Demo\n",
      "LLM Agents\n",
      "Open source AI Agent with complete trust on data privacy issues and reduced cost.\n",
      "Schedule Demo\n",
      "OUR CLIENTS & ASSOCIATIONS\n",
      "Meeting Clients unique needs is our value proposition.\n",
      "Ready to Transform Your Business with AI?\n",
      "Get in touch and let us build something amazing together!\n",
      "Send a message\n",
      "Infinity Wave AI Solutions\n",
      "139th Avenue\n",
      "Bellevue, WA 98005\n",
      "LINKS\n",
      "About\n",
      "Services\n",
      "Contact\n",
      "OUR SERVICES\n",
      "Intelligent Automation\n",
      "Conversational AI\n",
      "Advanced RAG Pipelines\n",
      "Custom AI Model\n",
      "SOCIAL MEDIA LINKS.\n",
      "Copyright © 2025 Infinity Wave AI Solutions. All rights reserved.\n"
     ]
    }
   ],
   "source": [
    "print(text)"
   ]
  },
  {
   "cell_type": "code",
   "execution_count": 60,
   "id": "65eefce7-71b6-4aef-b598-2490ed1070c0",
   "metadata": {},
   "outputs": [
    {
     "data": {
      "text/plain": [
       "['Infinity Wave AI',\n",
       " 'ServicesIndustriesAboutContact',\n",
       " 'Demo our products',\n",
       " 'AI Solutions for Your Unique Needs',\n",
       " 'We empower organizations unleashing the power of AI into their business success.',\n",
       " 'Get Started Today',\n",
       " 'Who We Are',\n",
       " 'We help businesses unlock the true potential of AI technology. Whether to automate processes, develop intelligent AI systems, or leverage the latest AI models.',\n",
       " '• Decade of experience in AI development',\n",
       " '• Expertise in cutting-edge AI technologies',\n",
       " '• Tailored AI Solutions for your unique needs',\n",
       " 'Free Consultation',\n",
       " 'OUR EXPERTISE',\n",
       " 'We specialize in end-to-end AI solutions tailored to your industry and business goals.',\n",
       " 'Intelligent Automation',\n",
       " 'We specialize in creating and optimizing Workflow automation, RPA with AI, and smart assistants.',\n",
       " 'Conversational AI',\n",
       " 'We develop high-quality and advance AI Chatbots, voice bots, and customer support systems..',\n",
       " 'Advanced RAG Pipelines',\n",
       " 'Retrieval-augmented generation for accurate and context-aware AI outputs.',\n",
       " 'Custom AI Model',\n",
       " 'Industry-specific AI models fine-tuned to your requirements.',\n",
       " 'Bridging AI Adoption',\n",
       " 'While tech giants invest billions in AI, most businesses struggle to customize these advancements for their unique needs. At Infinity Wave, we simplify AI adoption, delivering cost-effective and scalable solutions designed specifically for your business.',\n",
       " 'AI Solutions for Every Industry',\n",
       " '• Healthcare',\n",
       " '• Finance',\n",
       " '• Retail & Manufacturing',\n",
       " '• Education',\n",
       " '• Document Processing',\n",
       " '• Aerospace',\n",
       " 'PRODUCTS',\n",
       " 'Document Processing AI',\n",
       " 'AI documents intelligence with key value extractions and auto signatures.',\n",
       " 'Schedule Demo',\n",
       " 'Daily Invest AI',\n",
       " 'AI Agent for financial investing assistant for enterprises and individuals.',\n",
       " 'Schedule Demo',\n",
       " 'Multi Agent Chatbot',\n",
       " 'AI driven Chatbot integrating with Salesforce, Teams, Slack or any other platforms.',\n",
       " 'Schedule Demo',\n",
       " 'LLM Agents',\n",
       " 'Open source AI Agent with complete trust on data privacy issues and reduced cost.',\n",
       " 'Schedule Demo',\n",
       " 'OUR CLIENTS & ASSOCIATIONS',\n",
       " 'Meeting Clients unique needs is our value proposition.',\n",
       " 'Ready to Transform Your Business with AI?',\n",
       " 'Get in touch and let us build something amazing together!',\n",
       " 'Send a message',\n",
       " 'Infinity Wave AI Solutions',\n",
       " '139th Avenue',\n",
       " 'Bellevue, WA 98005',\n",
       " 'LINKS',\n",
       " 'About',\n",
       " 'Services',\n",
       " 'Contact',\n",
       " 'OUR SERVICES',\n",
       " 'Intelligent Automation',\n",
       " 'Conversational AI',\n",
       " 'Advanced RAG Pipelines',\n",
       " 'Custom AI Model',\n",
       " 'SOCIAL MEDIA LINKS.',\n",
       " 'Copyright © 2025 Infinity Wave AI Solutions. All rights reserved.']"
      ]
     },
     "execution_count": 60,
     "metadata": {},
     "output_type": "execute_result"
    }
   ],
   "source": [
    "lines = text.split(\"\\n\")\n",
    "lines"
   ]
  },
  {
   "cell_type": "code",
   "execution_count": 57,
   "id": "740921d9-ecd9-4bb2-a322-9c3688763395",
   "metadata": {},
   "outputs": [],
   "source": [
    "## Get all links:\n",
    "elems = browser.find_elements(By.TAG_NAME,\"a\")\n"
   ]
  },
  {
   "cell_type": "code",
   "execution_count": 58,
   "id": "f45d556f-ccde-4948-adf2-b5d16954b54d",
   "metadata": {},
   "outputs": [
    {
     "data": {
      "text/plain": [
       "['https://infinitywave.ai/',\n",
       " 'https://www.linkedin.com/in/yeshwanthsai/',\n",
       " 'https://infinitywave.ai/#about',\n",
       " 'https://infinitywave.ai/get-demo',\n",
       " 'https://infinitywave.ai/#services',\n",
       " 'https://infinitywave.ai/get-demo#demo',\n",
       " 'https://infinitywave.ai/contact']"
      ]
     },
     "execution_count": 58,
     "metadata": {},
     "output_type": "execute_result"
    }
   ],
   "source": [
    "all_links = []\n",
    "\n",
    "for elem in elems:\n",
    "    \n",
    "    w = elem.get_attribute('href')\n",
    "    all_links.append(w)\n",
    "\n",
    "all_links = list(set(all_links))\n",
    "all_links"
   ]
  },
  {
   "cell_type": "code",
   "execution_count": 59,
   "id": "80d1d6ff-74c0-4d90-ba6a-f910db314896",
   "metadata": {},
   "outputs": [],
   "source": [
    "## internal links\n",
    "internal_links = [\n",
    " 'https://infinitywave.ai/',\n",
    " 'https://infinitywave.ai/#about',\n",
    " 'https://infinitywave.ai/get-demo',\n",
    " 'https://infinitywave.ai/#services',\n",
    " 'https://infinitywave.ai/get-demo#demo',\n",
    " 'https://infinitywave.ai/contact']"
   ]
  },
  {
   "cell_type": "code",
   "execution_count": 62,
   "id": "bb9e51e4-bff6-438f-9b4f-af06ff27fe8e",
   "metadata": {},
   "outputs": [
    {
     "name": "stdout",
     "output_type": "stream",
     "text": [
      "https://infinitywave.ai/\n",
      "https://infinitywave.ai/#about\n",
      "https://infinitywave.ai/get-demo\n",
      "https://infinitywave.ai/#services\n",
      "https://infinitywave.ai/get-demo#demo\n",
      "https://infinitywave.ai/contact\n"
     ]
    }
   ],
   "source": [
    "# > \n",
    "for link in internal_links:\n",
    "    print(link)\n",
    "    browser.get(link)\n",
    "\n",
    "    for _ in range(5):\n",
    "        \n",
    "        time.sleep(1)\n",
    "        browser.execute_script(\"window.scrollBy(0,688)\")\n",
    "        \n",
    "    text = browser.find_element(By.XPATH, \"/html/body\").text\n",
    "    ls = text.split(\"\\n\")\n",
    "    for l in ls:\n",
    "        if l not in lines:\n",
    "            lines.append(l)\n",
    "        "
   ]
  },
  {
   "cell_type": "code",
   "execution_count": 63,
   "id": "5e745cc4-81f7-48b9-871a-4fdd03ee55de",
   "metadata": {},
   "outputs": [
    {
     "data": {
      "text/plain": [
       "['Infinity Wave AI',\n",
       " 'ServicesIndustriesAboutContact',\n",
       " 'Demo our products',\n",
       " 'AI Solutions for Your Unique Needs',\n",
       " 'We empower organizations unleashing the power of AI into their business success.',\n",
       " 'Get Started Today',\n",
       " 'Who We Are',\n",
       " 'We help businesses unlock the true potential of AI technology. Whether to automate processes, develop intelligent AI systems, or leverage the latest AI models.',\n",
       " '• Decade of experience in AI development',\n",
       " '• Expertise in cutting-edge AI technologies',\n",
       " '• Tailored AI Solutions for your unique needs',\n",
       " 'Free Consultation',\n",
       " 'OUR EXPERTISE',\n",
       " 'We specialize in end-to-end AI solutions tailored to your industry and business goals.',\n",
       " 'Intelligent Automation',\n",
       " 'We specialize in creating and optimizing Workflow automation, RPA with AI, and smart assistants.',\n",
       " 'Conversational AI',\n",
       " 'We develop high-quality and advance AI Chatbots, voice bots, and customer support systems..',\n",
       " 'Advanced RAG Pipelines',\n",
       " 'Retrieval-augmented generation for accurate and context-aware AI outputs.',\n",
       " 'Custom AI Model',\n",
       " 'Industry-specific AI models fine-tuned to your requirements.',\n",
       " 'Bridging AI Adoption',\n",
       " 'While tech giants invest billions in AI, most businesses struggle to customize these advancements for their unique needs. At Infinity Wave, we simplify AI adoption, delivering cost-effective and scalable solutions designed specifically for your business.',\n",
       " 'AI Solutions for Every Industry',\n",
       " '• Healthcare',\n",
       " '• Finance',\n",
       " '• Retail & Manufacturing',\n",
       " '• Education',\n",
       " '• Document Processing',\n",
       " '• Aerospace',\n",
       " 'PRODUCTS',\n",
       " 'Document Processing AI',\n",
       " 'AI documents intelligence with key value extractions and auto signatures.',\n",
       " 'Schedule Demo',\n",
       " 'Daily Invest AI',\n",
       " 'AI Agent for financial investing assistant for enterprises and individuals.',\n",
       " 'Schedule Demo',\n",
       " 'Multi Agent Chatbot',\n",
       " 'AI driven Chatbot integrating with Salesforce, Teams, Slack or any other platforms.',\n",
       " 'Schedule Demo',\n",
       " 'LLM Agents',\n",
       " 'Open source AI Agent with complete trust on data privacy issues and reduced cost.',\n",
       " 'Schedule Demo',\n",
       " 'OUR CLIENTS & ASSOCIATIONS',\n",
       " 'Meeting Clients unique needs is our value proposition.',\n",
       " 'Ready to Transform Your Business with AI?',\n",
       " 'Get in touch and let us build something amazing together!',\n",
       " 'Send a message',\n",
       " 'Infinity Wave AI Solutions',\n",
       " '139th Avenue',\n",
       " 'Bellevue, WA 98005',\n",
       " 'LINKS',\n",
       " 'About',\n",
       " 'Services',\n",
       " 'Contact',\n",
       " 'OUR SERVICES',\n",
       " 'Intelligent Automation',\n",
       " 'Conversational AI',\n",
       " 'Advanced RAG Pipelines',\n",
       " 'Custom AI Model',\n",
       " 'SOCIAL MEDIA LINKS.',\n",
       " 'Copyright © 2025 Infinity Wave AI Solutions. All rights reserved.',\n",
       " 'Page not found',\n",
       " 'Looks like you’ve followed a broken link or entered a URL that doesn’t exist on this site.',\n",
       " 'If this is your site, and you weren’t expecting a 404 for this path, please visit Netlify’s “page not found” support guide for troubleshooting tips.']"
      ]
     },
     "execution_count": 63,
     "metadata": {},
     "output_type": "execute_result"
    }
   ],
   "source": [
    "lines"
   ]
  },
  {
   "cell_type": "markdown",
   "id": "0564e3f8-fe8f-4345-b488-4eff796025d5",
   "metadata": {},
   "source": [
    "#### Extracting text from website done!"
   ]
  },
  {
   "cell_type": "markdown",
   "id": "54b968a8-606d-4af9-a70a-ef94c920bfb7",
   "metadata": {},
   "source": [
    "#### Creating QnAns Pairs:"
   ]
  },
  {
   "cell_type": "code",
   "execution_count": 72,
   "id": "ebda7696-7760-4017-b8d6-48c560621dd8",
   "metadata": {},
   "outputs": [],
   "source": [
    "empty_response = [{\"question\": \"\",\"answer\":\"\"}]\n",
    "content = \" \".join(lines)\n",
    "prompt = f\"\"\"You are a Question and Answer generating AI Assistant. You were given content of a website. \n",
    "Carefully analyze every word and Generate as many question and answer pairs as possible. \n",
    "Here is the website content:\n",
    "{content}\n",
    "Here are further Instrutions: \n",
    "* Be more inclusive and elaborative\n",
    "* Provide the response in json format with list of question and answer pairs. \n",
    "* Here is the sample format {empty_response} \n",
    "\"\"\""
   ]
  },
  {
   "cell_type": "code",
   "execution_count": 74,
   "id": "6ffd7bbc-8226-4a21-8a35-b43474cb957a",
   "metadata": {},
   "outputs": [
    {
     "name": "stdout",
     "output_type": "stream",
     "text": [
      "You are a Question and Answer generating AI Assistant. You were given content of a website. \n",
      "Carefully analyze every word and Generate as many question and answer pairs as possible. \n",
      "Here is the website content:\n",
      "Infinity Wave AI ServicesIndustriesAboutContact Demo our products AI Solutions for Your Unique Needs We empower organizations unleashing the power of AI into their business success. Get Started Today Who We Are We help businesses unlock the true potential of AI technology. Whether to automate processes, develop intelligent AI systems, or leverage the latest AI models. • Decade of experience in AI development • Expertise in cutting-edge AI technologies • Tailored AI Solutions for your unique needs Free Consultation OUR EXPERTISE We specialize in end-to-end AI solutions tailored to your industry and business goals. Intelligent Automation We specialize in creating and optimizing Workflow automation, RPA with AI, and smart assistants. Conversational AI We develop high-quality and advance AI Chatbots, voice bots, and customer support systems.. Advanced RAG Pipelines Retrieval-augmented generation for accurate and context-aware AI outputs. Custom AI Model Industry-specific AI models fine-tuned to your requirements. Bridging AI Adoption While tech giants invest billions in AI, most businesses struggle to customize these advancements for their unique needs. At Infinity Wave, we simplify AI adoption, delivering cost-effective and scalable solutions designed specifically for your business. AI Solutions for Every Industry • Healthcare • Finance • Retail & Manufacturing • Education • Document Processing • Aerospace PRODUCTS Document Processing AI AI documents intelligence with key value extractions and auto signatures. Schedule Demo Daily Invest AI AI Agent for financial investing assistant for enterprises and individuals. Schedule Demo Multi Agent Chatbot AI driven Chatbot integrating with Salesforce, Teams, Slack or any other platforms. Schedule Demo LLM Agents Open source AI Agent with complete trust on data privacy issues and reduced cost. Schedule Demo OUR CLIENTS & ASSOCIATIONS Meeting Clients unique needs is our value proposition. Ready to Transform Your Business with AI? Get in touch and let us build something amazing together! Send a message Infinity Wave AI Solutions 139th Avenue Bellevue, WA 98005 LINKS About Services Contact OUR SERVICES Intelligent Automation Conversational AI Advanced RAG Pipelines Custom AI Model SOCIAL MEDIA LINKS. Copyright © 2025 Infinity Wave AI Solutions. All rights reserved. Page not found Looks like you’ve followed a broken link or entered a URL that doesn’t exist on this site. If this is your site, and you weren’t expecting a 404 for this path, please visit Netlify’s “page not found” support guide for troubleshooting tips.\n",
      "Here are further Instrutions: \n",
      "* Be more inclusive and elaborative\n",
      "* Provide the response in json format with list of question and answer pairs. \n",
      "* Here is the sample format [{'question': '', 'answer': ''}] \n",
      "\n"
     ]
    }
   ],
   "source": [
    "print(prompt)"
   ]
  },
  {
   "cell_type": "code",
   "execution_count": 75,
   "id": "ab753f7a-c01b-4822-9c01-6e0a2ff5daae",
   "metadata": {},
   "outputs": [],
   "source": [
    "import ollama\n",
    "\n",
    "response = ollama.chat(\n",
    "        model='llava:7b',\n",
    "        messages=[{\n",
    "            'role': 'user',\n",
    "            'content': prompt\n",
    "        }]\n",
    "    )\n",
    "    \n",
    "res = response['message']['content']"
   ]
  },
  {
   "cell_type": "code",
   "execution_count": 77,
   "id": "d0169bec-adeb-4a55-b5f6-3ffc5de70ad8",
   "metadata": {},
   "outputs": [
    {
     "name": "stdout",
     "output_type": "stream",
     "text": [
      " ```json\n",
      "[  {    \"question\": \"What services does Infinity Wave AI Services offer?\",    \"answer\": \"Infinity Wave AI Services offers AI Solutions for organizations, focusing on intelligent automation and conversational AI. They also provide advanced RAG pipelines, custom AI models, and document processing AI.\"  },  {    \"question\": \"Who is Infinity Wave AI Services?\",    \"answer\": \"Infinity Wave AI Services is a company that helps businesses unlock the true potential of AI technology by developing intelligent AI systems and automating processes. They specialize in end-to-end AI solutions tailored to your industry and business goals.\"  },  {    \"question\": \"What industries does Infinity Wave AI Services cater to?\",    \"answer\": \"Infinity Wave AI Services caters to various industries such as healthcare, finance, retail & manufacturing, education, document processing, aerospace, and more.\"  },  {    \"question\": \"What is the focus of Infinity Wave AI Services?\",    \"answer\": \"The focus of Infinity Wave AI Services is to deliver cost-effective and scalable AI solutions designed specifically for each client's unique needs, simplifying AI adoption for businesses.\"  },  {    \"question\": \"What are the main products offered by Infinity Wave AI Services?\",    \"answer\": \"Infinity Wave AI Services offers three main products: Document Processing AI, Daily Invest AI, and Multi Agent Chatbot AI.\"  },  {    \"question\": \"Does Infinity Wave AI Services offer a free consultation?\",    \"answer\": \"Yes, Infinity Wave AI Services offers a free consultation to help businesses understand their unique needs and how they can benefit from AI technology.\"  },  {    \"question\": \"Where is Infinity Wave AI Services located?\",    \"answer\": \"Infinity Wave AI Services is located at 139th Avenue in Bellevue, WA 98005.\"  }]\n",
      "``` \n"
     ]
    }
   ],
   "source": [
    "print(res)"
   ]
  },
  {
   "cell_type": "code",
   "execution_count": 78,
   "id": "2e9b58f4-eb38-4f89-92af-7d33789efe5d",
   "metadata": {},
   "outputs": [],
   "source": [
    "qnas = [  {    \"question\": \"What services does Infinity Wave AI Services offer?\",    \"answer\": \"Infinity Wave AI Services offers AI Solutions for organizations, focusing on intelligent automation and conversational AI. They also provide advanced RAG pipelines, custom AI models, and document processing AI.\"  },  {    \"question\": \"Who is Infinity Wave AI Services?\",    \"answer\": \"Infinity Wave AI Services is a company that helps businesses unlock the true potential of AI technology by developing intelligent AI systems and automating processes. They specialize in end-to-end AI solutions tailored to your industry and business goals.\"  },  {    \"question\": \"What industries does Infinity Wave AI Services cater to?\",    \"answer\": \"Infinity Wave AI Services caters to various industries such as healthcare, finance, retail & manufacturing, education, document processing, aerospace, and more.\"  },  {    \"question\": \"What is the focus of Infinity Wave AI Services?\",    \"answer\": \"The focus of Infinity Wave AI Services is to deliver cost-effective and scalable AI solutions designed specifically for each client's unique needs, simplifying AI adoption for businesses.\"  },  {    \"question\": \"What are the main products offered by Infinity Wave AI Services?\",    \"answer\": \"Infinity Wave AI Services offers three main products: Document Processing AI, Daily Invest AI, and Multi Agent Chatbot AI.\"  },  {    \"question\": \"Does Infinity Wave AI Services offer a free consultation?\",    \"answer\": \"Yes, Infinity Wave AI Services offers a free consultation to help businesses understand their unique needs and how they can benefit from AI technology.\"  },  {    \"question\": \"Where is Infinity Wave AI Services located?\",    \"answer\": \"Infinity Wave AI Services is located at 139th Avenue in Bellevue, WA 98005.\"  }]"
   ]
  },
  {
   "cell_type": "code",
   "execution_count": 79,
   "id": "d2d215df-af22-4ed9-b98a-e995e65c05a9",
   "metadata": {},
   "outputs": [
    {
     "data": {
      "text/plain": [
       "[{'question': 'What services does Infinity Wave AI Services offer?',\n",
       "  'answer': 'Infinity Wave AI Services offers AI Solutions for organizations, focusing on intelligent automation and conversational AI. They also provide advanced RAG pipelines, custom AI models, and document processing AI.'},\n",
       " {'question': 'Who is Infinity Wave AI Services?',\n",
       "  'answer': 'Infinity Wave AI Services is a company that helps businesses unlock the true potential of AI technology by developing intelligent AI systems and automating processes. They specialize in end-to-end AI solutions tailored to your industry and business goals.'},\n",
       " {'question': 'What industries does Infinity Wave AI Services cater to?',\n",
       "  'answer': 'Infinity Wave AI Services caters to various industries such as healthcare, finance, retail & manufacturing, education, document processing, aerospace, and more.'},\n",
       " {'question': 'What is the focus of Infinity Wave AI Services?',\n",
       "  'answer': \"The focus of Infinity Wave AI Services is to deliver cost-effective and scalable AI solutions designed specifically for each client's unique needs, simplifying AI adoption for businesses.\"},\n",
       " {'question': 'What are the main products offered by Infinity Wave AI Services?',\n",
       "  'answer': 'Infinity Wave AI Services offers three main products: Document Processing AI, Daily Invest AI, and Multi Agent Chatbot AI.'},\n",
       " {'question': 'Does Infinity Wave AI Services offer a free consultation?',\n",
       "  'answer': 'Yes, Infinity Wave AI Services offers a free consultation to help businesses understand their unique needs and how they can benefit from AI technology.'},\n",
       " {'question': 'Where is Infinity Wave AI Services located?',\n",
       "  'answer': 'Infinity Wave AI Services is located at 139th Avenue in Bellevue, WA 98005.'}]"
      ]
     },
     "execution_count": 79,
     "metadata": {},
     "output_type": "execute_result"
    }
   ],
   "source": [
    "qnas"
   ]
  },
  {
   "cell_type": "markdown",
   "id": "e85f034f-d675-459e-ac67-3cda026c9420",
   "metadata": {},
   "source": [
    "#### Creating Vector DB collection :> "
   ]
  },
  {
   "cell_type": "code",
   "execution_count": 64,
   "id": "d409694d-b8ec-46ce-baa4-0ad66e0f5cb2",
   "metadata": {},
   "outputs": [],
   "source": [
    "import chromadb\n",
    "client = chromadb.PersistentClient(path=\"easychat\")"
   ]
  },
  {
   "cell_type": "code",
   "execution_count": 69,
   "id": "aaf98933-7dd9-4146-b3d4-360d05f5e50f",
   "metadata": {},
   "outputs": [],
   "source": [
    "name = \"infinitywaveai\""
   ]
  },
  {
   "cell_type": "code",
   "execution_count": 70,
   "id": "d013f607-d84b-491e-b19f-24bdc0fb47d5",
   "metadata": {},
   "outputs": [],
   "source": [
    "collection = client.create_collection(name=name)"
   ]
  },
  {
   "cell_type": "code",
   "execution_count": 81,
   "id": "8768daa1-656b-40e3-aff9-890d6da89da9",
   "metadata": {},
   "outputs": [],
   "source": [
    "collection.add(\n",
    "    documents=[\n",
    "        obj['question'] + \" \" + obj['answer'] for obj in qnas\n",
    "    ],\n",
    "    ids=[str(i) for i in range(len(qnas))]\n",
    ")"
   ]
  },
  {
   "cell_type": "code",
   "execution_count": 82,
   "id": "4f559847-fc8c-49ef-9b00-e20481105a5d",
   "metadata": {},
   "outputs": [
    {
     "name": "stdout",
     "output_type": "stream",
     "text": [
      "{'ids': [['0', '1']], 'distances': [[0.2472401231103309, 0.2563393851532814]], 'metadatas': [[None, None]], 'embeddings': None, 'documents': [['What services does Infinity Wave AI Services offer? Infinity Wave AI Services offers AI Solutions for organizations, focusing on intelligent automation and conversational AI. They also provide advanced RAG pipelines, custom AI models, and document processing AI.', 'Who is Infinity Wave AI Services? Infinity Wave AI Services is a company that helps businesses unlock the true potential of AI technology by developing intelligent AI systems and automating processes. They specialize in end-to-end AI solutions tailored to your industry and business goals.']], 'uris': None, 'data': None}\n"
     ]
    }
   ],
   "source": [
    "results = collection.query(\n",
    "    query_texts=['What services does Infinity Wave AI Services offer?'], # Chroma will embed this for you\n",
    "    n_results=2 # how many results to return\n",
    ")\n",
    "print(results)"
   ]
  },
  {
   "cell_type": "code",
   "execution_count": 86,
   "id": "7157b692-bedd-435c-a9ca-ab63f38fed3e",
   "metadata": {},
   "outputs": [
    {
     "data": {
      "text/plain": [
       "'What services does Infinity Wave AI Services offer? Infinity Wave AI Services offers AI Solutions for organizations, focusing on intelligent automation and conversational AI. They also provide advanced RAG pipelines, custom AI models, and document processing AI.'"
      ]
     },
     "execution_count": 86,
     "metadata": {},
     "output_type": "execute_result"
    }
   ],
   "source": [
    "results['documents'][0][0]"
   ]
  },
  {
   "cell_type": "code",
   "execution_count": null,
   "id": "09df3fc8-716c-41fb-97cc-65560de3cca9",
   "metadata": {},
   "outputs": [],
   "source": []
  },
  {
   "cell_type": "markdown",
   "id": "c9e522d8-3159-43e5-9c4a-6494ff87ec00",
   "metadata": {},
   "source": [
    "#### Bot"
   ]
  },
  {
   "cell_type": "code",
   "execution_count": 91,
   "id": "77085df2-a80d-4f92-9301-29911bd16f64",
   "metadata": {},
   "outputs": [],
   "source": [
    "query = \"What is Infinity Wave AI Solutions?\""
   ]
  },
  {
   "cell_type": "code",
   "execution_count": 92,
   "id": "bd937920-0378-41dd-8e89-11b04b911117",
   "metadata": {},
   "outputs": [],
   "source": [
    "\n",
    "results = collection.query(\n",
    "    query_texts=[query], # Chroma will embed this for you\n",
    "    n_results=3 # how many results to return\n",
    ")\n",
    "\n",
    "context = \" \\n \".join(results['documents'][0]) "
   ]
  },
  {
   "cell_type": "code",
   "execution_count": 93,
   "id": "e2d3d049-0a10-4c13-90ec-1e436cbd49cc",
   "metadata": {},
   "outputs": [],
   "source": [
    "\n",
    "template = f\"\"\"\n",
    "Answer the following question only by using the context given below in the triple backticks, do not use any other information to answer the question.\n",
    "If you can't answer the given question with the given context, you can return an emtpy string ('')\n",
    "Context: {context}\n",
    "----------------------------\n",
    "Question: {query}\n",
    "----------------------------\n",
    "Answer: \"\"\""
   ]
  },
  {
   "cell_type": "code",
   "execution_count": 96,
   "id": "2fa5c5f2-025d-4102-b5df-8f7fa3dbf15e",
   "metadata": {},
   "outputs": [],
   "source": [
    "response = ollama.chat(\n",
    "        model='llava:7b',\n",
    "        messages=[{\n",
    "            'role': 'user',\n",
    "            'content': template\n",
    "        }]\n",
    "    )\n",
    "    \n",
    "res = response['message']['content']"
   ]
  },
  {
   "cell_type": "code",
   "execution_count": 97,
   "id": "89ed7f7c-b81e-458f-8b1a-2f91725525bc",
   "metadata": {},
   "outputs": [
    {
     "name": "stdout",
     "output_type": "stream",
     "text": [
      " Infinity Wave AI Solutions is a company that specializes in developing intelligent AI systems and automating processes for businesses. They provide end-to-end AI solutions tailored to each client's industry and business goals, focusing on cost-effective and scalable solutions. Their services include AI Solutions for organizations, intelligent automation, conversational AI, advanced RAG pipelines, custom AI models, and document processing AI. \n"
     ]
    }
   ],
   "source": [
    "print(res)"
   ]
  },
  {
   "cell_type": "code",
   "execution_count": null,
   "id": "b91f9e69-f46d-4cb5-909c-35c8dcdb5db3",
   "metadata": {},
   "outputs": [],
   "source": []
  }
 ],
 "metadata": {
  "kernelspec": {
   "display_name": "Python 3 (ipykernel)",
   "language": "python",
   "name": "python3"
  },
  "language_info": {
   "codemirror_mode": {
    "name": "ipython",
    "version": 3
   },
   "file_extension": ".py",
   "mimetype": "text/x-python",
   "name": "python",
   "nbconvert_exporter": "python",
   "pygments_lexer": "ipython3",
   "version": "3.10.14"
  }
 },
 "nbformat": 4,
 "nbformat_minor": 5
}
